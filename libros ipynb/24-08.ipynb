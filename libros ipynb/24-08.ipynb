{
 "cells": [
  {
   "cell_type": "code",
   "execution_count": 6,
   "metadata": {},
   "outputs": [
    {
     "name": "stdout",
     "output_type": "stream",
     "text": [
      "¡Hola, mundo!\n"
     ]
    },
    {
     "data": {
      "application/javascript": "\n        var cell = Jupyter.notebook.insert_cell_above();\n        cell.set_text('print(\"¡Hola, mundo!\")');\n        cell.execute();\n    ",
      "text/plain": [
       "<IPython.core.display.Javascript object>"
      ]
     },
     "metadata": {},
     "output_type": "display_data"
    }
   ],
   "source": [
    "from IPython.display import display, Javascript\n",
    "\n",
    "def crear_nueva_celda():\n",
    "    display(Javascript('''\n",
    "        var cell = Jupyter.notebook.insert_cell_above();\n",
    "        cell.set_text('print(\"¡Hola, mundo!\")');\n",
    "        cell.execute();\n",
    "    '''))\n",
    "\n",
    "print(\"¡Hola, mundo!\")\n",
    "\n",
    "\n",
    "crear_nueva_celda()"
   ]
  },
  {
   "cell_type": "code",
   "execution_count": 7,
   "metadata": {},
   "outputs": [
    {
     "ename": "IndentationError",
     "evalue": "expected an indented block after class definition on line 22 (3743448534.py, line 23)",
     "output_type": "error",
     "traceback": [
      "\u001b[1;36m  Cell \u001b[1;32mIn[7], line 23\u001b[1;36m\u001b[0m\n\u001b[1;33m    def __init__(self, nombre, autor, isbn, numero_reserva):\u001b[0m\n\u001b[1;37m    ^\u001b[0m\n\u001b[1;31mIndentationError\u001b[0m\u001b[1;31m:\u001b[0m expected an indented block after class definition on line 22\n"
     ]
    }
   ],
   "source": [
    "class Ejemplar:\n",
    "    def __init__(self, id):\n",
    "        self.__id = id  \n",
    "\n",
    "    def __encontrar_sobre_titulo(self):\n",
    "        pass\n",
    "\n",
    "    def __crear(self):\n",
    "        pass\n",
    "\n",
    "    def __destruir(self):\n",
    "        pass\n",
    "\n",
    "    def __encontrar(self):\n",
    "        pass\n",
    "\n",
    "    class Titulo:\n",
    "        def __init__(self, nombre, autor, isbn, numero_reserva):\n",
    "            self.__nombre = nombre  \n",
    "            self.__autor = autor  \n",
    "            self.__isbn = isbn  \n",
    "            self.__numero_reserva = numero_reserva  \n",
    "\n",
    "        def __encontrar(self):\n",
    "            pass\n",
    "\n",
    "        def __crear(self):\n",
    "            pass\n",
    "\n",
    "        def __destruir(self):\n",
    "            pass\n",
    "\n",
    "\n",
    "class TituloDelLibro(Ejemplar.Titulo):\n",
    "    def __init__(self, nombre, autor, isbn, numero_reserva):\n",
    "        super().__init__(nombre, autor, isbn, numero_reserva)\n",
    "        self.__tiempo_pendiente = 30  # Atributo privado"
   ]
  }
 ],
 "metadata": {
  "kernelspec": {
   "display_name": "Python 3",
   "language": "python",
   "name": "python3"
  },
  "language_info": {
   "codemirror_mode": {
    "name": "ipython",
    "version": 3
   },
   "file_extension": ".py",
   "mimetype": "text/x-python",
   "name": "python",
   "nbconvert_exporter": "python",
   "pygments_lexer": "ipython3",
   "version": "3.11.9"
  }
 },
 "nbformat": 4,
 "nbformat_minor": 2
}
