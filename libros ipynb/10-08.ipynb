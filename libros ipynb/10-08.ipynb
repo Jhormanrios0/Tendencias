{
 "cells": [
  {
   "cell_type": "markdown",
   "metadata": {},
   "source": [
    "## Listas\n"
   ]
  },
  {
   "cell_type": "code",
   "execution_count": 24,
   "metadata": {},
   "outputs": [
    {
     "name": "stdout",
     "output_type": "stream",
     "text": [
      "Lista original: [100, 'Karen', 3.1416, True, [1, 2, 3]]\n",
      "Lista después de modificaciones: [[1, 2, 3], True, 3.1416, '555', 'Karen', 100]\n",
      "Último elemento eliminado: ahri\n",
      "Dato específico: 100\n",
      "Elementos de la lista:\n",
      "[1, 2, 3]\n",
      "True\n",
      "3.1416\n",
      "555\n",
      "Karen\n",
      "100\n"
     ]
    }
   ],
   "source": [
    "\n",
    "mi_lista = [100, 'Karen', 3.1416, True, [1, 2, 3]]\n",
    "\n",
    "print(\"Lista original:\", mi_lista)\n",
    "\n",
    "mi_lista.append('ahri')\n",
    "mi_lista.insert(2, '555')\n",
    "ultimo_elemento = mi_lista.pop(6)\n",
    "mi_lista.reverse()\n",
    "\n",
    "\n",
    "print(\"Lista después de modificaciones:\", mi_lista)\n",
    "print(\"Último elemento eliminado:\", ultimo_elemento)\n",
    "\n",
    "\n",
    "dato_especifico = mi_lista[5]\n",
    "print(\"Dato específico:\", dato_especifico)\n",
    "\n",
    "\n",
    "print(\"Elementos de la lista:\")\n",
    "for elemento in mi_lista:\n",
    "    print(elemento)\n"
   ]
  },
  {
   "cell_type": "markdown",
   "metadata": {},
   "source": [
    "## Diccionario\n"
   ]
  },
  {
   "cell_type": "code",
   "execution_count": 26,
   "metadata": {},
   "outputs": [
    {
     "name": "stdout",
     "output_type": "stream",
     "text": [
      "Diccionario de Contactos:\n",
      "Juan Perez - Correo: juanperez123@tdea.com - Teléfono: 3001231234\n",
      "Maria Lopez - Correo: marialopez456@tdea.com - Teléfono: 3004567890\n",
      "Carlos Martinez - Correo: carlosmartinez789@tdea.com - Teléfono: 3009876543\n"
     ]
    }
   ],
   "source": [
    "contactos = {\n",
    "    'juanperez123@tdea.com': {\n",
    "        'nombre': 'Juan',\n",
    "        'apellido': 'Perez',\n",
    "        'correo': 'juanperez123@tdea.com',\n",
    "        'telefono': '3001231234'\n",
    "    },\n",
    "    'marialopez456@tdea.com': {\n",
    "        'nombre': 'Maria',\n",
    "        'apellido': 'Lopez',\n",
    "        'correo': 'marialopez456@tdea.com',\n",
    "        'telefono': '3004567890'\n",
    "    },\n",
    "    'carlosmartinez789@tdea.com': {\n",
    "        'nombre': 'Carlos',\n",
    "        'apellido': 'Martinez',\n",
    "        'correo': 'carlosmartinez789@tdea.com',\n",
    "        'telefono': '3009876543'\n",
    "    }\n",
    "}\n",
    "\n",
    "print('Diccionario de Contactos:')\n",
    "for correo, info in contactos.items():\n",
    "    print(f\"{info['nombre']} {info['apellido']} - Correo: {info['correo']} - Teléfono: {info['telefono']}\")\n"
   ]
  },
  {
   "cell_type": "code",
   "execution_count": null,
   "metadata": {},
   "outputs": [],
   "source": [
    "# Crear la lista para almacenar los datos de los estudiantes\n",
    "estudiantes = []\n",
    "\n",
    "def ingresar_datos():\n",
    "    n = int(input(\"Ingrese la cantidad de estudiantes: \"))\n",
    "    for _ in range(n):\n",
    "        estudiante = {}\n",
    "        estudiante['id'] = input(\"Ingrese el ID del estudiante: \")\n",
    "        estudiante['nombre'] = input(\"Ingrese el nombre completo del estudiante: \")\n",
    "        estudiante['notas'] = []\n",
    "        for i in range(4):\n",
    "            nota = float(input(f\"Ingrese la nota {i+1}: \"))\n",
    "            estudiante['notas'].append(nota)\n",
    "        estudiantes.append(estudiante)\n",
    "\n",
    "def calcular_promedio():\n",
    "    for estudiante in estudiantes:\n",
    "        promedio = sum(estudiante['notas']) / 4\n",
    "        estudiante['promedio'] = promedio\n",
    "        if promedio >= 8.0:\n",
    "            estudiante['resultado'] = 'Notable'\n",
    "        elif 6.0 <= promedio <= 7.9:\n",
    "            estudiante['resultado'] = 'Aprobado'\n",
    "        else:\n",
    "            estudiante['resultado'] = 'Suspendido'\n",
    "\n",
    "def imprimir_informacion():\n",
    "    for estudiante in estudiantes:\n",
    "        print(f\"ID: {estudiante['id']}\")\n",
    "        print(f\"Nombre: {estudiante['nombre']}\")\n",
    "        print(f\"Notas: {estudiante['notas']}\")\n",
    "        print(f\"Promedio: {estudiante.get('promedio', 'No calculado')}\")\n",
    "        print(f\"Resultado: {estudiante.get('resultado', 'No determinado')}\")\n",
    "        print(\"-\" * 30)\n",
    "\n",
    "def menu():\n",
    "    while True:\n",
    "        print(\"\\n- - - - Menú - - - -\")\n",
    "        print(\"1. Ingresar Datos\")\n",
    "        print(\"2. Calcular Promedio\")\n",
    "        print(\"3. Imprimir\")\n",
    "        print(\"4. Salir\")\n",
    "        opcion = input(\"Seleccione una opción: \")\n",
    "\n",
    "        if opcion == '1':\n",
    "            ingresar_datos()\n",
    "        elif opcion == '2':\n",
    "            calcular_promedio()\n",
    "        elif opcion == '3':\n",
    "            imprimir_informacion()\n",
    "        elif opcion == '4':\n",
    "            print(\"Saliendo del programa...\")\n",
    "            break\n",
    "        else:\n",
    "            print(\"Opción no válida. Intente de nuevo.\")\n",
    "\n",
    "# Llamar al menú para ejecutar el programa\n",
    "menu()\n"
   ]
  }
 ],
 "metadata": {
  "kernelspec": {
   "display_name": "Python 3",
   "language": "python",
   "name": "python3"
  },
  "language_info": {
   "codemirror_mode": {
    "name": "ipython",
    "version": 3
   },
   "file_extension": ".py",
   "mimetype": "text/x-python",
   "name": "python",
   "nbconvert_exporter": "python",
   "pygments_lexer": "ipython3",
   "version": "3.11.9"
  }
 },
 "nbformat": 4,
 "nbformat_minor": 2
}
