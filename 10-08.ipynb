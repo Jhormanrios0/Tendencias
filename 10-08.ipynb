{
 "cells": [
  {
   "cell_type": "markdown",
   "metadata": {},
   "source": [
    "## Listas\n"
   ]
  },
  {
   "cell_type": "code",
   "execution_count": 24,
   "metadata": {},
   "outputs": [
    {
     "name": "stdout",
     "output_type": "stream",
     "text": [
      "Lista original: [100, 'Karen', 3.1416, True, [1, 2, 3]]\n",
      "Lista después de modificaciones: [[1, 2, 3], True, 3.1416, '555', 'Karen', 100]\n",
      "Último elemento eliminado: ahri\n",
      "Dato específico: 100\n",
      "Elementos de la lista:\n",
      "[1, 2, 3]\n",
      "True\n",
      "3.1416\n",
      "555\n",
      "Karen\n",
      "100\n"
     ]
    }
   ],
   "source": [
    "\n",
    "mi_lista = [100, 'Karen', 3.1416, True, [1, 2, 3]]\n",
    "\n",
    "print(\"Lista original:\", mi_lista)\n",
    "\n",
    "mi_lista.append('ahri')\n",
    "mi_lista.insert(2, '555')\n",
    "ultimo_elemento = mi_lista.pop(6)\n",
    "mi_lista.reverse()\n",
    "\n",
    "\n",
    "print(\"Lista después de modificaciones:\", mi_lista)\n",
    "print(\"Último elemento eliminado:\", ultimo_elemento)\n",
    "\n",
    "\n",
    "dato_especifico = mi_lista[5]\n",
    "print(\"Dato específico:\", dato_especifico)\n",
    "\n",
    "\n",
    "print(\"Elementos de la lista:\")\n",
    "for elemento in mi_lista:\n",
    "    print(elemento)\n"
   ]
  },
  {
   "cell_type": "markdown",
   "metadata": {},
   "source": [
    "## Diccionario\n"
   ]
  },
  {
   "cell_type": "code",
   "execution_count": 26,
   "metadata": {},
   "outputs": [
    {
     "name": "stdout",
     "output_type": "stream",
     "text": [
      "Diccionario de Contactos:\n",
      "Juan Perez - Correo: juanperez123@tdea.com - Teléfono: 3001231234\n",
      "Maria Lopez - Correo: marialopez456@tdea.com - Teléfono: 3004567890\n",
      "Carlos Martinez - Correo: carlosmartinez789@tdea.com - Teléfono: 3009876543\n"
     ]
    }
   ],
   "source": [
    "contactos = {\n",
    "    'juanperez123@tdea.com': {\n",
    "        'nombre': 'Juan',\n",
    "        'apellido': 'Perez',\n",
    "        'correo': 'juanperez123@tdea.com',\n",
    "        'telefono': '3001231234'\n",
    "    },\n",
    "    'marialopez456@tdea.com': {\n",
    "        'nombre': 'Maria',\n",
    "        'apellido': 'Lopez',\n",
    "        'correo': 'marialopez456@tdea.com',\n",
    "        'telefono': '3004567890'\n",
    "    },\n",
    "    'carlosmartinez789@tdea.com': {\n",
    "        'nombre': 'Carlos',\n",
    "        'apellido': 'Martinez',\n",
    "        'correo': 'carlosmartinez789@tdea.com',\n",
    "        'telefono': '3009876543'\n",
    "    }\n",
    "}\n",
    "\n",
    "print('Diccionario de Contactos:')\n",
    "for correo, info in contactos.items():\n",
    "    print(f\"{info['nombre']} {info['apellido']} - Correo: {info['correo']} - Teléfono: {info['telefono']}\")\n"
   ]
  }
 ],
 "metadata": {
  "kernelspec": {
   "display_name": "Python 3",
   "language": "python",
   "name": "python3"
  },
  "language_info": {
   "codemirror_mode": {
    "name": "ipython",
    "version": 3
   },
   "file_extension": ".py",
   "mimetype": "text/x-python",
   "name": "python",
   "nbconvert_exporter": "python",
   "pygments_lexer": "ipython3",
   "version": "3.11.9"
  }
 },
 "nbformat": 4,
 "nbformat_minor": 2
}
